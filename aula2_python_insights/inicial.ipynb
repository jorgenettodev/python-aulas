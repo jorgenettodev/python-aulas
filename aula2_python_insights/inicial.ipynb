{
 "cells": [
  {
   "cell_type": "markdown",
   "metadata": {},
   "source": [
    "# Python Insights - Analisando Dados com Python\n",
    "\n",
    "### Case - Cancelamento de Clientes\n",
    "\n",
    "Você foi contratado por uma empresa com mais de 800 mil clientes para um projeto de Dados. Recentemente a empresa percebeu que da sua base total de clientes, a maioria são clientes inativos, ou seja, que já cancelaram o serviço.\n",
    "\n",
    "Precisando melhorar seus resultados ela quer conseguir entender os principais motivos desses cancelamentos e quais as ações mais eficientes para reduzir esse número.\n",
    "\n",
    "Base de dados e arquivos: https://drive.google.com/drive/folders/1uDesZePdkhiraJmiyeZ-w5tfc8XsNYFZ?usp=drive_link"
   ]
  },
  {
   "cell_type": "code",
   "execution_count": 4,
   "metadata": {},
   "outputs": [
    {
     "name": "stdout",
     "output_type": "stream",
     "text": [
      "       CustomerID  idade    sexo  tempo_como_cliente  frequencia_uso  \\\n",
      "0        349936.0   23.0    Male                13.0            22.0   \n",
      "1        100634.0   49.0    Male                55.0            16.0   \n",
      "2        301263.0   30.0    Male                 7.0             1.0   \n",
      "3        119358.0   26.0    Male                40.0             5.0   \n",
      "4        130955.0   27.0  Female                17.0            30.0   \n",
      "...           ...    ...     ...                 ...             ...   \n",
      "49995    195680.0   62.0  Female                35.0             7.0   \n",
      "49996     43477.0   36.0    Male                43.0            21.0   \n",
      "49997    169273.0   55.0    Male                42.0             8.0   \n",
      "49998    310693.0   40.0  Female                14.0            19.0   \n",
      "49999    251915.0   64.0    Male                41.0            29.0   \n",
      "\n",
      "       ligacoes_callcenter  dias_atraso assinatura duracao_contrato  \\\n",
      "0                      2.0          1.0   Standard           Annual   \n",
      "1                      3.0          6.0    Premium          Monthly   \n",
      "2                      0.0          8.0      Basic           Annual   \n",
      "3                      3.0          8.0    Premium           Annual   \n",
      "4                      5.0          6.0      Basic           Annual   \n",
      "...                    ...          ...        ...              ...   \n",
      "49995                  2.0          8.0      Basic           Annual   \n",
      "49996                  2.0         30.0      Basic        Quarterly   \n",
      "49997                  1.0         12.0      Basic          Monthly   \n",
      "49998                  1.0         17.0    Premium        Quarterly   \n",
      "49999                  5.0          9.0      Basic        Quarterly   \n",
      "\n",
      "       total_gasto  meses_ultima_interacao  cancelou  \n",
      "0           909.58                    23.0       0.0  \n",
      "1           207.00                    29.0       1.0  \n",
      "2           768.78                     7.0       0.0  \n",
      "3           398.00                    12.0       1.0  \n",
      "4           507.00                    15.0       1.0  \n",
      "...            ...                     ...       ...  \n",
      "49995       232.00                    15.0       1.0  \n",
      "49996       928.00                    30.0       1.0  \n",
      "49997       326.00                    27.0       1.0  \n",
      "49998       826.76                    12.0       0.0  \n",
      "49999       700.38                    18.0       1.0  \n",
      "\n",
      "[50000 rows x 12 columns]\n"
     ]
    }
   ],
   "source": [
    "# passo a passo (escrever em português)\n",
    "\n",
    "# instalar as bibliotecas necessárias\n",
    "    # !pip3 install plotly pandas openpyxl numpy ipykernel nbformat\n",
    "\n",
    "# passo 1 - importar a base de dados\n",
    "import pandas\n",
    "tabela = pandas.read_csv(\"./cancelamentos_sample.csv\")\n",
    "\n",
    "display(tabela)"
   ]
  },
  {
   "cell_type": "code",
   "execution_count": null,
   "metadata": {},
   "outputs": [],
   "source": []
  },
  {
   "cell_type": "code",
   "execution_count": null,
   "metadata": {},
   "outputs": [],
   "source": []
  }
 ],
 "metadata": {
  "kernelspec": {
   "display_name": "base",
   "language": "python",
   "name": "python3"
  },
  "language_info": {
   "codemirror_mode": {
    "name": "ipython",
    "version": 3
   },
   "file_extension": ".py",
   "mimetype": "text/x-python",
   "name": "python",
   "nbconvert_exporter": "python",
   "pygments_lexer": "ipython3",
   "version": "3.12.4"
  },
  "orig_nbformat": 4
 },
 "nbformat": 4,
 "nbformat_minor": 2
}
